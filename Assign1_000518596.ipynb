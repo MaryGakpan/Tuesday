{
  "nbformat": 4,
  "nbformat_minor": 0,
  "metadata": {
    "colab": {
      "provenance": [],
      "mount_file_id": "1oBDkbTEWjR30LG66yidAXRf-F3Te4VJ7",
      "authorship_tag": "ABX9TyP6pm2aQYkTXM4KM/0zAAJp",
      "include_colab_link": true
    },
    "kernelspec": {
      "name": "python3",
      "display_name": "Python 3"
    },
    "language_info": {
      "name": "python"
    }
  },
  "cells": [
    {
      "cell_type": "markdown",
      "metadata": {
        "id": "view-in-github",
        "colab_type": "text"
      },
      "source": [
        "<a href=\"https://colab.research.google.com/github/MaryGakpan/Tuesday/blob/main/Assign1_000518596.ipynb\" target=\"_parent\"><img src=\"https://colab.research.google.com/assets/colab-badge.svg\" alt=\"Open In Colab\"/></a>"
      ]
    },
    {
      "cell_type": "markdown",
      "source": [
        "a.\tGenerate a two-dimensional integer array with the shape of (20,5) and name it “data”. Fill “data” with random integers from -100 to 100. Display “data” at the end."
      ],
      "metadata": {
        "id": "MS7iEpKqptO0"
      }
    },
    {
      "cell_type": "code",
      "source": [
        "import numpy as np\n",
        "data = np.random.randint(-100, 101, size=(20, 5)) #Generating the 20x5 array with random integers from -100 to 100\n",
        "print(\"The generated 20 by 5 integer array 'data' is:\")\n",
        "\n",
        "print(data)"
      ],
      "metadata": {
        "colab": {
          "base_uri": "https://localhost:8080/"
        },
        "id": "cmzFthjjp4fh",
        "outputId": "c0eb8011-84b0-42a8-8ab6-d70354c6a0cb"
      },
      "execution_count": null,
      "outputs": [
        {
          "output_type": "stream",
          "name": "stdout",
          "text": [
            "The generated 20 by 5 integer array 'data' is:\n",
            "[[ -36    4   82   82  -46]\n",
            " [ -68  -62  -88   95   19]\n",
            " [ -42  -90  -28  -43   17]\n",
            " [ -18  -32   50   91    2]\n",
            " [  74  -16   98   27   91]\n",
            " [ -62   90  -59   54  -15]\n",
            " [ -54   58  -85   72  -82]\n",
            " [ -39  -40  -12   38   44]\n",
            " [ -77  -46   90  -32   10]\n",
            " [  -6   82   81    0  -58]\n",
            " [  81    3   14    3  -64]\n",
            " [  39   60  -10 -100  -57]\n",
            " [  83   28   89  -89   -1]\n",
            " [ -73  -16  -76   37   46]\n",
            " [ -61  -57   88  -24   15]\n",
            " [ -28  -34   -2   20  -72]\n",
            " [  41  -20  -40  -40  -69]\n",
            " [  15   60  -17   30   80]\n",
            " [ -16   49   14  -12  -14]\n",
            " [ -53  -97    1  -59   80]]\n"
          ]
        }
      ]
    },
    {
      "cell_type": "markdown",
      "source": [
        "b.\tDisplay the average value of the third column in “data”"
      ],
      "metadata": {
        "id": "UPUtIW-Ps7JF"
      }
    },
    {
      "cell_type": "code",
      "source": [
        "import numpy as np\n",
        "average_third_column = np.mean(data[:, 2]) # 'data' is a NumPy array and the third column is index 2\n",
        "\n",
        "\n",
        "print(f\"The average value of the third column is: {average_third_column:.2f}\")"
      ],
      "metadata": {
        "colab": {
          "base_uri": "https://localhost:8080/"
        },
        "id": "aDs_VvBgtEpf",
        "outputId": "902ade47-cb12-43e6-a62a-65b3e09b702f"
      },
      "execution_count": null,
      "outputs": [
        {
          "output_type": "stream",
          "name": "stdout",
          "text": [
            "The average value of the third column is: 9.50\n"
          ]
        }
      ]
    },
    {
      "cell_type": "markdown",
      "source": [
        "c.\tDisplay the average value of the first 5 rows in “data”"
      ],
      "metadata": {
        "id": "HvcmFQKFu2zv"
      }
    },
    {
      "cell_type": "code",
      "source": [
        "import numpy as np\n",
        "average_first_five_rows = np.mean(data[:5]) #finding average for first five rows\n",
        "\n",
        "print(f\"The average value of the first 5 rows in 'data' is: {average_first_five_rows:.2f}\") #displaying my answer in two decimal places"
      ],
      "metadata": {
        "colab": {
          "base_uri": "https://localhost:8080/"
        },
        "id": "YW11fiVNuyWE",
        "outputId": "13ba6fdd-6435-4c7a-96b4-fd13721e76e9"
      },
      "execution_count": null,
      "outputs": [
        {
          "output_type": "stream",
          "name": "stdout",
          "text": [
            "The average value of the first 5 rows in 'data' is: 6.52\n"
          ]
        }
      ]
    },
    {
      "cell_type": "markdown",
      "source": [
        "d.\tDisplay the average value of the first 3 rows and the 4th column in “data”."
      ],
      "metadata": {
        "id": "EP3ZV8RkvyC7"
      }
    },
    {
      "cell_type": "code",
      "source": [
        "import numpy as np\n",
        "first_three_rows = data[:3]  #average of the first three rows\n",
        "fourth_column = data[:, 3]   #average of the fourth column\n",
        "average_first_three_rows_4th_column = np.mean(first_three_rows[:, 3]) #Calculate and display the average value of the first 3 rows and the 4th column\n",
        "\n",
        "print(f\"The average value of the first 3 rows and the 4th column is: {average_first_three_rows_4th_column:.2f}\") #displaying my answer in two decimal places"
      ],
      "metadata": {
        "colab": {
          "base_uri": "https://localhost:8080/"
        },
        "id": "jRT9U6ihwDki",
        "outputId": "0522cf56-2846-4985-c4cc-a1ab17015022"
      },
      "execution_count": null,
      "outputs": [
        {
          "output_type": "stream",
          "name": "stdout",
          "text": [
            "The average value of the first 3 rows and the 4th column is: 44.67\n"
          ]
        }
      ]
    },
    {
      "cell_type": "markdown",
      "source": [
        "e.\tCreate a new NumPy array which contains the last 4 elements of the second row of “data”.  Display the new array at the end."
      ],
      "metadata": {
        "id": "CZxLuH3DxiOP"
      }
    },
    {
      "cell_type": "code",
      "source": [
        "import numpy as np\n",
        "second_row = data[1, -4:]  #Creating a new numpy array containing the last four elements of the 2nd row\n",
        "print(\"My new NumPy array with the last 4 elements of the second row:\")\n",
        "\n",
        "print(second_row)"
      ],
      "metadata": {
        "colab": {
          "base_uri": "https://localhost:8080/"
        },
        "id": "RrNia1ayx1Mb",
        "outputId": "9f4c6944-cd2a-444f-8ba9-e507ca265eba"
      },
      "execution_count": null,
      "outputs": [
        {
          "output_type": "stream",
          "name": "stdout",
          "text": [
            "My new NumPy array with the last 4 elements of the second row:\n",
            "[-62 -88  95  19]\n"
          ]
        }
      ]
    },
    {
      "cell_type": "markdown",
      "source": [
        "f.\tReshape “data” int to 10 x 10 matrix.  Display the matrix at the end."
      ],
      "metadata": {
        "id": "G4B-oC6ryw3x"
      }
    },
    {
      "cell_type": "code",
      "source": [
        "import numpy as np\n",
        "reshaped_data = data.reshape(10, 10)  #Reshaping 'data' to a 10 x 10 matrix\n",
        "print(\"Reshaped 10 by 10 matrix is:\")\n",
        "\n",
        "print(reshaped_data)"
      ],
      "metadata": {
        "colab": {
          "base_uri": "https://localhost:8080/"
        },
        "id": "s7HBDf44zUYA",
        "outputId": "92e0dca2-9328-47b5-dd1a-d2814f4e7932"
      },
      "execution_count": null,
      "outputs": [
        {
          "output_type": "stream",
          "name": "stdout",
          "text": [
            "Reshaped 10 by 10 matrix is:\n",
            "[[ -36    4   82   82  -46  -68  -62  -88   95   19]\n",
            " [ -42  -90  -28  -43   17  -18  -32   50   91    2]\n",
            " [  74  -16   98   27   91  -62   90  -59   54  -15]\n",
            " [ -54   58  -85   72  -82  -39  -40  -12   38   44]\n",
            " [ -77  -46   90  -32   10   -6   82   81    0  -58]\n",
            " [  81    3   14    3  -64   39   60  -10 -100  -57]\n",
            " [  83   28   89  -89   -1  -73  -16  -76   37   46]\n",
            " [ -61  -57   88  -24   15  -28  -34   -2   20  -72]\n",
            " [  41  -20  -40  -40  -69   15   60  -17   30   80]\n",
            " [ -16   49   14  -12  -14  -53  -97    1  -59   80]]\n"
          ]
        }
      ]
    },
    {
      "cell_type": "markdown",
      "source": [
        "g.\tCalculate the std deviation of “data”"
      ],
      "metadata": {
        "id": "p5SIrMKb0Jbl"
      }
    },
    {
      "cell_type": "code",
      "source": [
        "import numpy as np\n",
        "std_dev = np.std(data) #calculating standard deviation\n",
        "\n",
        "print(f\"The standard deviation of 'data' is:{std_dev:.2f} \") #displaying my answer in two decimal places"
      ],
      "metadata": {
        "colab": {
          "base_uri": "https://localhost:8080/"
        },
        "id": "vs2Mv-S90UTr",
        "outputId": "88d5ebd7-cbab-4bd8-a3b4-57e0240adfe8"
      },
      "execution_count": null,
      "outputs": [
        {
          "output_type": "stream",
          "name": "stdout",
          "text": [
            "The standard deviation of 'data' is:56.01 \n"
          ]
        }
      ]
    },
    {
      "cell_type": "markdown",
      "source": [
        "h.\tReplace the most largest number of each row in “data” with the average of the corresponding row.  Display “data” at the end."
      ],
      "metadata": {
        "id": "DCRPdz2l17-J"
      }
    },
    {
      "cell_type": "code",
      "source": [
        "import numpy as np\n",
        "row_averages = np.mean(data, axis=1, keepdims=True) #Calculating the average of each row\n",
        "max_num = data == np.max(data, axis=1, keepdims=True) #Creating a boolean mask to identify the positions of the maximum values in each row\n",
        "data = np.where(max_num, row_averages, data) #Replacing the maximum value with the corresponding row average\n",
        "\n",
        "data"
      ],
      "metadata": {
        "colab": {
          "base_uri": "https://localhost:8080/"
        },
        "id": "8G5_EVJS1-Xm",
        "outputId": "c6789391-db4e-4e13-aadf-ffc8053ac3aa"
      },
      "execution_count": null,
      "outputs": [
        {
          "output_type": "execute_result",
          "data": {
            "text/plain": [
              "array([[ -36. ,    4. ,   17.2,   17.2,  -46. ],\n",
              "       [ -68. ,  -62. ,  -88. ,  -20.8,   19. ],\n",
              "       [ -42. ,  -90. ,  -28. ,  -43. ,  -37.2],\n",
              "       [ -18. ,  -32. ,   50. ,   18.6,    2. ],\n",
              "       [  74. ,  -16. ,   54.8,   27. ,   91. ],\n",
              "       [ -62. ,    1.6,  -59. ,   54. ,  -15. ],\n",
              "       [ -54. ,   58. ,  -85. ,  -18.2,  -82. ],\n",
              "       [ -39. ,  -40. ,  -12. ,   38. ,   -1.8],\n",
              "       [ -77. ,  -46. ,  -11. ,  -32. ,   10. ],\n",
              "       [  -6. ,   19.8,   81. ,    0. ,  -58. ],\n",
              "       [   7.4,    3. ,   14. ,    3. ,  -64. ],\n",
              "       [  39. ,  -13.6,  -10. , -100. ,  -57. ],\n",
              "       [  83. ,   28. ,   22. ,  -89. ,   -1. ],\n",
              "       [ -73. ,  -16. ,  -76. ,   37. ,  -16.4],\n",
              "       [ -61. ,  -57. ,   -7.8,  -24. ,   15. ],\n",
              "       [ -28. ,  -34. ,   -2. ,  -23.2,  -72. ],\n",
              "       [ -25.6,  -20. ,  -40. ,  -40. ,  -69. ],\n",
              "       [  15. ,   60. ,  -17. ,   30. ,   33.6],\n",
              "       [ -16. ,    4.2,   14. ,  -12. ,  -14. ],\n",
              "       [ -53. ,  -97. ,    1. ,  -59. ,  -25.6]])"
            ]
          },
          "metadata": {},
          "execution_count": 89
        }
      ]
    },
    {
      "cell_type": "markdown",
      "source": [
        "i.\tCreate a new NumPy array which contains random 2 rows in “data”.  Display the new array at the end."
      ],
      "metadata": {
        "id": "NFIpfgQK3mTe"
      }
    },
    {
      "cell_type": "code",
      "source": [
        "import numpy as np\n",
        "random_rows_indices = np.random.choice(data.shape[0], size=2, replace=False) #Generating random row indices for the new array\n",
        "random_rows = data[random_rows_indices]  #Creating a new NumPy array with the selected rows\n",
        "print(\"My new NumPy array with 2 random rows is:\")\n",
        "\n",
        "print(random_rows)"
      ],
      "metadata": {
        "colab": {
          "base_uri": "https://localhost:8080/"
        },
        "id": "Rs1D5oVP3oWz",
        "outputId": "05b9def4-f75b-4c8a-ae3c-7c03b6dab29e"
      },
      "execution_count": null,
      "outputs": [
        {
          "output_type": "stream",
          "name": "stdout",
          "text": [
            "My new NumPy array with 2 random rows is:\n",
            "[[-36.    4.   17.2  17.2 -46. ]\n",
            " [ -6.   19.8  81.    0.  -58. ]]\n"
          ]
        }
      ]
    },
    {
      "cell_type": "markdown",
      "source": [
        "j.\tCreate a new NumPy array which contains random 3 columns in “data” .  Display the new array at the end."
      ],
      "metadata": {
        "id": "zmuDQHaU4Uo5"
      }
    },
    {
      "cell_type": "code",
      "source": [
        "import numpy as np\n",
        "num_columns = data.shape[1]\n",
        "random_column_indices = np.random.choice(num_columns, size=3, replace=False) #Generating random column indices for the new array\n",
        "random_columns = data[:, random_column_indices]  #Creating a new NumPy array with the selected columns\n",
        "print(\"My new NumPy array with 3 random columns is:\")\n",
        "\n",
        "print(random_columns)"
      ],
      "metadata": {
        "colab": {
          "base_uri": "https://localhost:8080/"
        },
        "id": "LfuToyAR4TAp",
        "outputId": "154b4112-41d8-4d99-aff7-73890fac0fb9"
      },
      "execution_count": null,
      "outputs": [
        {
          "output_type": "stream",
          "name": "stdout",
          "text": [
            "My new NumPy array with 3 random columns is:\n",
            "[[  4.   17.2 -46. ]\n",
            " [-62.  -88.   19. ]\n",
            " [-90.  -28.  -37.2]\n",
            " [-32.   50.    2. ]\n",
            " [-16.   54.8  91. ]\n",
            " [  1.6 -59.  -15. ]\n",
            " [ 58.  -85.  -82. ]\n",
            " [-40.  -12.   -1.8]\n",
            " [-46.  -11.   10. ]\n",
            " [ 19.8  81.  -58. ]\n",
            " [  3.   14.  -64. ]\n",
            " [-13.6 -10.  -57. ]\n",
            " [ 28.   22.   -1. ]\n",
            " [-16.  -76.  -16.4]\n",
            " [-57.   -7.8  15. ]\n",
            " [-34.   -2.  -72. ]\n",
            " [-20.  -40.  -69. ]\n",
            " [ 60.  -17.   33.6]\n",
            " [  4.2  14.  -14. ]\n",
            " [-97.    1.  -25.6]]\n"
          ]
        }
      ]
    },
    {
      "cell_type": "markdown",
      "source": [
        "k.\tCreate a new NumPy array which contains 100 random doubles drawn from a normal (Gaussian) distribution.  Display the new array at the end."
      ],
      "metadata": {
        "id": "GxLsZPlw6iST"
      }
    },
    {
      "cell_type": "code",
      "source": [
        "import numpy as np\n",
        "data1 = np.random.normal(size=100) #Generating an array named 'data1' with 100 random doubles from a normal (Gaussian) distribution\n",
        "print(\"My new NumPy array with 100 random doubles from a normal (Gaussian) distribution is:\")\n",
        "\n",
        "print(data1)"
      ],
      "metadata": {
        "colab": {
          "base_uri": "https://localhost:8080/"
        },
        "id": "Pt-RYjlK6kTj",
        "outputId": "b7956fd6-37b6-4b80-b23f-2f8b780871d8"
      },
      "execution_count": null,
      "outputs": [
        {
          "output_type": "stream",
          "name": "stdout",
          "text": [
            "My new NumPy array with 100 random doubles from a normal (Gaussian) distribution is:\n",
            "[-0.83506122 -1.58570622 -0.63170502 -1.38050246  0.51616632  0.52082697\n",
            " -0.98363164 -0.76564879 -2.54238069  0.35112006 -1.75717557  0.31514584\n",
            " -0.56979921  0.01318707 -0.01201736  0.13476326  0.31559768  0.56428058\n",
            " -0.74738313 -1.09505146  0.19650476  0.26848467 -0.18192795  0.6660533\n",
            " -0.9043068  -0.3579822   0.92591342  0.7905241   3.231388    0.57805849\n",
            "  0.86228167  0.72636996  0.61314364 -0.02597467  1.33289616 -1.29660888\n",
            " -0.48162778 -1.22030814  0.34853877 -0.28691202 -0.419332   -0.98995775\n",
            "  0.56837675  0.32011046  0.30795294 -0.24410835 -0.94662757  1.19628268\n",
            "  0.53079632 -0.23622863 -0.43023197 -0.08098202 -1.15346619  0.9649409\n",
            "  0.83349757  1.14988301  0.21992606  0.24991934  1.541777   -0.90286575\n",
            " -0.83219811  1.63067042  0.35315405 -1.27147283 -1.37103724  0.4328292\n",
            " -0.22695202  0.93313026  0.99859559 -0.17815772 -2.16040177 -0.96811774\n",
            " -0.69120811  1.56844362 -1.39300827  0.26956254 -0.11355675  0.23645062\n",
            "  1.64344223  1.57465421 -1.66565297 -0.36356573  0.65781041  0.65206201\n",
            " -0.03407453 -1.0854164   0.99757357  1.04129958  0.32136103 -0.6126567\n",
            "  1.32476712 -0.45645935  0.62595641 -1.30495697  0.5109567  -0.21597822\n",
            " -0.12574271 -0.36429075  0.23942099 -0.02628049]\n"
          ]
        }
      ]
    },
    {
      "cell_type": "markdown",
      "source": [
        "l.\tConvert the data to a Panda Data Frame with the header “a” – “e” and name it “dataframe”. Describe the “dataframe” at the end.  "
      ],
      "metadata": {
        "id": "b6KtkLMq8mW7"
      }
    },
    {
      "cell_type": "code",
      "source": [
        "import pandas as pd\n",
        "import numpy as np\n",
        "dataframe = pd.DataFrame(data, columns=['a', 'b', 'c', 'd', 'e'])  #Creating a Pandas DataFrame with the specified column headers\n",
        "description = dataframe.describe() #Describing the DataFrame\n",
        "\n",
        "dataframe, description"
      ],
      "metadata": {
        "colab": {
          "base_uri": "https://localhost:8080/"
        },
        "id": "U3i4j-EE8q7T",
        "outputId": "dc60622f-b9c7-45fb-c7d8-444a8b970812"
      },
      "execution_count": null,
      "outputs": [
        {
          "output_type": "execute_result",
          "data": {
            "text/plain": [
              "(       a     b     c      d     e\n",
              " 0  -36.0   4.0  17.2   17.2 -46.0\n",
              " 1  -68.0 -62.0 -88.0  -20.8  19.0\n",
              " 2  -42.0 -90.0 -28.0  -43.0 -37.2\n",
              " 3  -18.0 -32.0  50.0   18.6   2.0\n",
              " 4   74.0 -16.0  54.8   27.0  91.0\n",
              " 5  -62.0   1.6 -59.0   54.0 -15.0\n",
              " 6  -54.0  58.0 -85.0  -18.2 -82.0\n",
              " 7  -39.0 -40.0 -12.0   38.0  -1.8\n",
              " 8  -77.0 -46.0 -11.0  -32.0  10.0\n",
              " 9   -6.0  19.8  81.0    0.0 -58.0\n",
              " 10   7.4   3.0  14.0    3.0 -64.0\n",
              " 11  39.0 -13.6 -10.0 -100.0 -57.0\n",
              " 12  83.0  28.0  22.0  -89.0  -1.0\n",
              " 13 -73.0 -16.0 -76.0   37.0 -16.4\n",
              " 14 -61.0 -57.0  -7.8  -24.0  15.0\n",
              " 15 -28.0 -34.0  -2.0  -23.2 -72.0\n",
              " 16 -25.6 -20.0 -40.0  -40.0 -69.0\n",
              " 17  15.0  60.0 -17.0   30.0  33.6\n",
              " 18 -16.0   4.2  14.0  -12.0 -14.0\n",
              " 19 -53.0 -97.0   1.0  -59.0 -25.6,\n",
              "                a          b          c           d          e\n",
              " count  20.000000  20.000000  20.000000   20.000000  20.000000\n",
              " mean  -22.010000 -17.250000  -9.090000  -11.820000 -19.420000\n",
              " std    46.046497  42.195628  45.255507   41.745893  42.787499\n",
              " min   -77.000000 -97.000000 -88.000000 -100.000000 -82.000000\n",
              " 25%   -55.750000 -41.500000 -31.000000  -34.000000 -57.250000\n",
              " 50%   -32.000000 -16.000000  -8.900000  -15.100000 -15.700000\n",
              " 75%    -2.650000   4.050000  14.800000   20.700000   4.000000\n",
              " max    83.000000  60.000000  81.000000   54.000000  91.000000)"
            ]
          },
          "metadata": {},
          "execution_count": 93
        }
      ]
    },
    {
      "cell_type": "markdown",
      "source": [
        "m.\tSave the “dataframe” into assign1.xlsx."
      ],
      "metadata": {
        "id": "OSFctmXB-XSY"
      }
    },
    {
      "cell_type": "code",
      "source": [
        "dataframe.to_excel(\"assign1.xlsx\", index=False)"
      ],
      "metadata": {
        "id": "lM2eC0r5-ZT4"
      },
      "execution_count": null,
      "outputs": []
    },
    {
      "cell_type": "markdown",
      "source": [
        "n.\tSave the “dataframe” into assign1.csv."
      ],
      "metadata": {
        "id": "2Ik7EfdA_QSI"
      }
    },
    {
      "cell_type": "code",
      "source": [
        "dataframe.to_csv(\"assign1.csv\", index=False)"
      ],
      "metadata": {
        "id": "X3YKLwHH_Rmb"
      },
      "execution_count": null,
      "outputs": []
    },
    {
      "cell_type": "markdown",
      "source": [
        "o.\tReplace all the negative numbers in “dataframe” to 0. Describe the “dataframe” at the end.  "
      ],
      "metadata": {
        "id": "9qQ031bz_yK-"
      }
    },
    {
      "cell_type": "code",
      "source": [
        "dataframe[dataframe < 0] = 0 #Replacing all negative numbers with 0 in the 'dataframe\n",
        "description = dataframe.describe()\n",
        "\n",
        "dataframe, description"
      ],
      "metadata": {
        "colab": {
          "base_uri": "https://localhost:8080/"
        },
        "id": "pwFfXn7E_z4O",
        "outputId": "9d9d3fbd-caf4-4d25-f231-0b6074abafe4"
      },
      "execution_count": null,
      "outputs": [
        {
          "output_type": "execute_result",
          "data": {
            "text/plain": [
              "(       a     b     c     d     e\n",
              " 0    0.0   4.0  17.2  17.2   0.0\n",
              " 1    0.0   0.0   0.0   0.0  19.0\n",
              " 2    0.0   0.0   0.0   0.0   0.0\n",
              " 3    0.0   0.0  50.0  18.6   2.0\n",
              " 4   74.0   0.0  54.8  27.0  91.0\n",
              " 5    0.0   1.6   0.0  54.0   0.0\n",
              " 6    0.0  58.0   0.0   0.0   0.0\n",
              " 7    0.0   0.0   0.0  38.0   0.0\n",
              " 8    0.0   0.0   0.0   0.0  10.0\n",
              " 9    0.0  19.8  81.0   0.0   0.0\n",
              " 10   7.4   3.0  14.0   3.0   0.0\n",
              " 11  39.0   0.0   0.0   0.0   0.0\n",
              " 12  83.0  28.0  22.0   0.0   0.0\n",
              " 13   0.0   0.0   0.0  37.0   0.0\n",
              " 14   0.0   0.0   0.0   0.0  15.0\n",
              " 15   0.0   0.0   0.0   0.0   0.0\n",
              " 16   0.0   0.0   0.0   0.0   0.0\n",
              " 17  15.0  60.0   0.0  30.0  33.6\n",
              " 18   0.0   4.2  14.0   0.0   0.0\n",
              " 19   0.0   0.0   1.0   0.0   0.0,\n",
              "                a          b         c          d          e\n",
              " count  20.000000  20.000000  20.00000  20.000000  20.000000\n",
              " mean   10.920000   8.930000  12.70000  11.240000   8.530000\n",
              " std    24.900678  18.624181  22.95428  16.986137  21.330411\n",
              " min     0.000000   0.000000   0.00000   0.000000   0.000000\n",
              " 25%     0.000000   0.000000   0.00000   0.000000   0.000000\n",
              " 50%     0.000000   0.000000   0.00000   0.000000   0.000000\n",
              " 75%     1.850000   4.050000  14.80000  20.700000   4.000000\n",
              " max    83.000000  60.000000  81.00000  54.000000  91.000000)"
            ]
          },
          "metadata": {},
          "execution_count": 96
        }
      ]
    },
    {
      "cell_type": "markdown",
      "source": [
        "p.\tReplace all the zeros in the “dataframe” to 1. Describe the “dataframe” at the end.  "
      ],
      "metadata": {
        "id": "xFRvbVzfAYsc"
      }
    },
    {
      "cell_type": "code",
      "source": [
        "dataframe[dataframe == 0] = 1 #Replacing all zeros with 1 in the 'dataframe'\n",
        "description = dataframe.describe()\n",
        "\n",
        "dataframe, description"
      ],
      "metadata": {
        "colab": {
          "base_uri": "https://localhost:8080/"
        },
        "id": "ZWzK620eAclZ",
        "outputId": "694c157e-59a6-4e06-9d0b-454d96d4187a"
      },
      "execution_count": null,
      "outputs": [
        {
          "output_type": "execute_result",
          "data": {
            "text/plain": [
              "(       a     b     c     d     e\n",
              " 0    1.0   4.0  17.2  17.2   1.0\n",
              " 1    1.0   1.0   1.0   1.0  19.0\n",
              " 2    1.0   1.0   1.0   1.0   1.0\n",
              " 3    1.0   1.0  50.0  18.6   2.0\n",
              " 4   74.0   1.0  54.8  27.0  91.0\n",
              " 5    1.0   1.6   1.0  54.0   1.0\n",
              " 6    1.0  58.0   1.0   1.0   1.0\n",
              " 7    1.0   1.0   1.0  38.0   1.0\n",
              " 8    1.0   1.0   1.0   1.0  10.0\n",
              " 9    1.0  19.8  81.0   1.0   1.0\n",
              " 10   7.4   3.0  14.0   3.0   1.0\n",
              " 11  39.0   1.0   1.0   1.0   1.0\n",
              " 12  83.0  28.0  22.0   1.0   1.0\n",
              " 13   1.0   1.0   1.0  37.0   1.0\n",
              " 14   1.0   1.0   1.0   1.0  15.0\n",
              " 15   1.0   1.0   1.0   1.0   1.0\n",
              " 16   1.0   1.0   1.0   1.0   1.0\n",
              " 17  15.0  60.0   1.0  30.0  33.6\n",
              " 18   1.0   4.2  14.0   1.0   1.0\n",
              " 19   1.0   1.0   1.0   1.0   1.0,\n",
              "                a         b         c          d          e\n",
              " count  20.000000  20.00000  20.00000  20.000000  20.000000\n",
              " mean   11.670000   9.53000  13.30000  11.840000   9.230000\n",
              " std    24.556039  18.32574  22.60773  16.570564  21.038939\n",
              " min     1.000000   1.00000   1.00000   1.000000   1.000000\n",
              " 25%     1.000000   1.00000   1.00000   1.000000   1.000000\n",
              " 50%     1.000000   1.00000   1.00000   1.000000   1.000000\n",
              " 75%     2.600000   4.05000  14.80000  20.700000   4.000000\n",
              " max    83.000000  60.00000  81.00000  54.000000  91.000000)"
            ]
          },
          "metadata": {},
          "execution_count": 97
        }
      ]
    }
  ]
}